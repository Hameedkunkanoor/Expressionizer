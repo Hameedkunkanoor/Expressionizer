{
 "nbformat": 4,
 "nbformat_minor": 2,
 "metadata": {
  "language_info": {
   "name": "python",
   "codemirror_mode": {
    "name": "ipython",
    "version": 3
   },
   "version": "3.7.4-final"
  },
  "orig_nbformat": 2,
  "file_extension": ".py",
  "mimetype": "text/x-python",
  "name": "python",
  "npconvert_exporter": "python",
  "pygments_lexer": "ipython3",
  "version": 3,
  "kernelspec": {
   "name": "python361064bitfc1fc2b22b7a46af971673e48cf69fec",
   "display_name": "Python 3.6.10 64-bit"
  }
 },
 "cells": [
  {
   "cell_type": "code",
   "execution_count": 9,
   "metadata": {},
   "outputs": [],
   "source": [
    "import pandas as pd\n",
    "import numpy as np\n",
    "import cv2\n",
    "import os\n",
    "DatasetFolderName='MathsCharacters'"
   ]
  },
  {
   "cell_type": "code",
   "execution_count": 12,
   "metadata": {},
   "outputs": [
    {
     "output_type": "stream",
     "name": "stdout",
     "text": "Method to extract the images and appending them as an array\n"
    }
   ],
   "source": [
    "print('Method to extract the images and appending them as an array')\n",
    "def ExtractData(Path):\n",
    "    Path=DatasetFolderName+'/'+Path\n",
    "    CharacterArray=[]\n",
    "    countOfImages=0\n",
    "\n",
    "    for image in os.listdir(Path):\n",
    "    #  while countOfImages<3000 and len(os.listdir(Path))>countOfImages:\n",
    "        img = cv2.imread(os.path.join(Path,image),cv2.IMREAD_GRAYSCALE)\n",
    "        img=~img\n",
    "        if img is not None:\n",
    "            ret,thresh=cv2.threshold(img,127,255,cv2.THRESH_BINARY)\n",
    "            ctrs,ret=cv2.findContours(thresh,cv2.RETR_EXTERNAL,cv2.CHAIN_APPROX_NONE)\n",
    "            cnt=sorted(ctrs, key=lambda ctr: cv2.boundingRect(ctr)[0])\n",
    "            Imagewidth=int(28)\n",
    "            Imageheight=int(28)\n",
    "            maxi=0\n",
    "            for c in cnt:\n",
    "                x,y,Imagewidth,Imageheight=cv2.boundingRect(c)\n",
    "                maxi=max(Imagewidth*Imageheight,maxi)\n",
    "                if maxi==Imagewidth*Imageheight:\n",
    "                    x_max=x\n",
    "                    y_max=y\n",
    "                    w_max=Imagewidth\n",
    "                    h_max=Imageheight\n",
    "            im_crop= thresh[y_max:y_max+h_max+10, x_max:x_max+w_max+10]\n",
    "            im_resize = cv2.resize(im_crop,(28,28))\n",
    "            im_resize=np.reshape(im_resize,(784,1))\n",
    "            CharacterArray.append(im_resize)\n",
    "            countOfImages+=1\n",
    "    #  else:\n",
    "    #      break\n",
    "    return CharacterArray\n",
    "\n",
    ""
   ]
  },
  {
   "cell_type": "code",
   "execution_count": 13,
   "metadata": {},
   "outputs": [
    {
     "output_type": "stream",
     "name": "stdout",
     "text": "printing the total classes and their samples\n3251->times\n3737->9\n6914->0\n2909->7\n25112->+\n3118->6\n26520->1\n3068->8\n33997->-\n7396->4\n10909->3\n26141->2\n3545->5\n"
    }
   ],
   "source": [
    "print('printing the total classes and their samples')\n",
    "CharacterSet=[]\n",
    "\n",
    "for datafolder in os.listdir(DatasetFolderName):\n",
    "    \n",
    "        # to omit hidden folders sucha .Ds\n",
    "    if(datafolder.startswith('.')):\n",
    "        continue\n",
    "    else :  \n",
    "        datafolderPath=DatasetFolderName+'/'+datafolder\n",
    "        print(str(len(os.listdir(datafolderPath)))+'->'+datafolder)\n",
    "\n",
    "      \n",
    "         "
   ]
  },
  {
   "cell_type": "code",
   "execution_count": 14,
   "metadata": {},
   "outputs": [
    {
     "output_type": "stream",
     "name": "stdout",
     "text": "There is a lot of differnce in the number of images per each class\n"
    }
   ],
   "source": [
    "print('There is a lot of differnce in the number of images per each class')\n",
    "# print('I tried to normalize that by doing shifts rotation but it didnt give better results so truncating all the images to 3000,so that each class contains images upto 3000 only')"
   ]
  },
  {
   "cell_type": "code",
   "execution_count": 15,
   "metadata": {},
   "outputs": [
    {
     "output_type": "stream",
     "name": "stdout",
     "text": "times-> Class Number0\n9-> Class Number1\n0-> Class Number2\n7-> Class Number3\n+-> Class Number4\n6-> Class Number5\n1-> Class Number6\n8-> Class Number7\n--> Class Number8\n4-> Class Number9\n3-> Class Number10\n2-> Class Number11\n5-> Class Number12\n"
    }
   ],
   "source": [
    "c=0\n",
    "import json\n",
    "classdict = {}\n",
    " \n",
    "for datafolder in os.listdir(DatasetFolderName):\n",
    "  if datafolder.startswith('.'):\n",
    "     continue\n",
    "  print(datafolder+'->'+' Class Number' +str(c))\n",
    "  classdict[c]=datafolder\n",
    "  c+=1\n",
    "json.dump(classdict, open(\"Mathscllasses.txt\",'w'))\n",
    ""
   ]
  },
  {
   "cell_type": "code",
   "execution_count": 16,
   "metadata": {},
   "outputs": [
    {
     "output_type": "stream",
     "name": "stdout",
     "text": "Saving the samples in the csv\n3251->times\n3737->9\nTotal count6988\n6914->0\nTotal count13902\n2909->7\nTotal count16811\n25112->+\nTotal count41923\n3118->6\nTotal count45041\n26520->1\nTotal count71561\n3068->8\nTotal count74629\n33997->-\nTotal count108626\n7396->4\nTotal count116022\n10909->3\nTotal count126931\n26141->2\nTotal count153072\n3545->5\nTotal count156617\n"
    }
   ],
   "source": [
    "print('Saving the samples in the csv')\n",
    "import os\n",
    "#a CharacterSet variable to store all the characters with their labels\n",
    "CharacterSet=[]\n",
    "c=0\n",
    "#to loop throuh the available folders inside our dataset\n",
    "for datafolder in os.listdir(DatasetFolderName):\n",
    "    \n",
    "        # to omit hidden folders sucha .Ds\n",
    "    if(datafolder.startswith('.')):\n",
    "               continue\n",
    "    else :     \n",
    "               #while starting the CharacterSet extraction for first time we will copy the extracted CharacterSet\n",
    "               if(len(CharacterSet)==0):\n",
    "                  CharacterSet=ExtractData(datafolder)\n",
    "                  for i in range(0,len(CharacterSet)):\n",
    "                     CharacterSet[i]=np.append(CharacterSet[i],c)\n",
    "                  print(str(len(CharacterSet))+'->'+datafolder)\n",
    "               #character images appended recursively\n",
    "               else:\n",
    "                  Character=ExtractData(datafolder)\n",
    "                  \n",
    "               \n",
    "                  for i in range(0,len(Character)):\n",
    "                     Character[i]=np.append(Character[i],c)\n",
    "                  CharacterSet=np.concatenate((CharacterSet,Character))\n",
    "                  c+=1   \n",
    "                  print(str(len(Character))+'->'+datafolder)\n",
    "                  print('Total count'+str(len(CharacterSet)))\n",
    ""
   ]
  },
  {
   "cell_type": "code",
   "execution_count": 17,
   "metadata": {},
   "outputs": [],
   "source": [
    "        \n",
    "df=pd.DataFrame(CharacterSet,index=None)\n",
    "df.to_csv('MathsCharactersDataset3.csv',index=False)\n",
    ""
   ]
  },
  {
   "cell_type": "code",
   "execution_count": null,
   "metadata": {},
   "outputs": [],
   "source": []
  }
 ]
}